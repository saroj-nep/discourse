{
 "cells": [
  {
   "cell_type": "code",
   "execution_count": 1,
   "metadata": {},
   "outputs": [
    {
     "name": "stderr",
     "output_type": "stream",
     "text": [
      "c:\\Users\\Rashi\\AppData\\Local\\Programs\\Python\\Python39\\lib\\site-packages\\tqdm\\auto.py:22: TqdmWarning: IProgress not found. Please update jupyter and ipywidgets. See https://ipywidgets.readthedocs.io/en/stable/user_install.html\n",
      "  from .autonotebook import tqdm as notebook_tqdm\n"
     ]
    }
   ],
   "source": [
    "import pandas as pd\n",
    "import os \n",
    "import copy\n",
    "from utils.clean_output import clean_epi\n",
    "from utils.process_new_data import Preprocess_New_Data\n",
    "from utils.data_processing import get_one_hot, get_splitted_data\n",
    "from sklearn.model_selection import train_test_split"
   ]
  },
  {
   "cell_type": "code",
   "execution_count": 2,
   "metadata": {},
   "outputs": [
    {
     "name": "stderr",
     "output_type": "stream",
     "text": [
      "d:\\EDUTECH\\chatbot\\utils\\clean_output.py:17: SettingWithCopyWarning: \n",
      "A value is trying to be set on a copy of a slice from a DataFrame\n",
      "\n",
      "See the caveats in the documentation: https://pandas.pydata.org/pandas-docs/stable/user_guide/indexing.html#returning-a-view-versus-a-copy\n",
      "  y[y == i] = '1'\n",
      "d:\\EDUTECH\\chatbot\\utils\\clean_output.py:20: SettingWithCopyWarning: \n",
      "A value is trying to be set on a copy of a slice from a DataFrame\n",
      "\n",
      "See the caveats in the documentation: https://pandas.pydata.org/pandas-docs/stable/user_guide/indexing.html#returning-a-view-versus-a-copy\n",
      "  y[y == i] = '2'\n",
      "d:\\EDUTECH\\chatbot\\utils\\clean_output.py:23: SettingWithCopyWarning: \n",
      "A value is trying to be set on a copy of a slice from a DataFrame\n",
      "\n",
      "See the caveats in the documentation: https://pandas.pydata.org/pandas-docs/stable/user_guide/indexing.html#returning-a-view-versus-a-copy\n",
      "  y[y == i] = '3'\n",
      "d:\\EDUTECH\\chatbot\\utils\\clean_output.py:26: SettingWithCopyWarning: \n",
      "A value is trying to be set on a copy of a slice from a DataFrame\n",
      "\n",
      "See the caveats in the documentation: https://pandas.pydata.org/pandas-docs/stable/user_guide/indexing.html#returning-a-view-versus-a-copy\n",
      "  y[y == i] = '4'\n",
      "d:\\EDUTECH\\chatbot\\utils\\clean_output.py:29: SettingWithCopyWarning: \n",
      "A value is trying to be set on a copy of a slice from a DataFrame\n",
      "\n",
      "See the caveats in the documentation: https://pandas.pydata.org/pandas-docs/stable/user_guide/indexing.html#returning-a-view-versus-a-copy\n",
      "  y[y == i] = '5'\n",
      "d:\\EDUTECH\\chatbot\\utils\\clean_output.py:32: SettingWithCopyWarning: \n",
      "A value is trying to be set on a copy of a slice from a DataFrame\n",
      "\n",
      "See the caveats in the documentation: https://pandas.pydata.org/pandas-docs/stable/user_guide/indexing.html#returning-a-view-versus-a-copy\n",
      "  y[y == i] = '-1'\n",
      "d:\\EDUTECH\\chatbot\\utils\\clean_output.py:35: SettingWithCopyWarning: \n",
      "A value is trying to be set on a copy of a slice from a DataFrame\n",
      "\n",
      "See the caveats in the documentation: https://pandas.pydata.org/pandas-docs/stable/user_guide/indexing.html#returning-a-view-versus-a-copy\n",
      "  y[y == i] = '-1'\n",
      "d:\\EDUTECH\\chatbot\\utils\\clean_output.py:38: SettingWithCopyWarning: \n",
      "A value is trying to be set on a copy of a slice from a DataFrame\n",
      "\n",
      "See the caveats in the documentation: https://pandas.pydata.org/pandas-docs/stable/user_guide/indexing.html#returning-a-view-versus-a-copy\n",
      "  y[y == i] = '-1'\n",
      "d:\\EDUTECH\\chatbot\\utils\\clean_output.py:41: SettingWithCopyWarning: \n",
      "A value is trying to be set on a copy of a slice from a DataFrame\n",
      "\n",
      "See the caveats in the documentation: https://pandas.pydata.org/pandas-docs/stable/user_guide/indexing.html#returning-a-view-versus-a-copy\n",
      "  y[y == i] = '-1'\n"
     ]
    }
   ],
   "source": [
    "old_data = pd.read_csv(os.path.join('data', 'xml_data.csv'))\n",
    "old_data['epi'] = clean_epi(old_data)\n",
    "old_data = old_data.drop(columns='soc')"
   ]
  },
  {
   "cell_type": "code",
   "execution_count": 3,
   "metadata": {},
   "outputs": [],
   "source": [
    "#Create new data\n",
    "\n",
    "new_data = pd.read_excel(os.path.join('data', 'EPI_discourses.xlsx'), sheet_name = None)\n",
    "new_data['Braga_Gujranwarla'] = new_data['Braga_Gujranwarla'].drop(columns = ['Unnamed: 3', 'Unnamed: 4'])\n",
    "del new_data['Cuenca_Bielefeld'] \n",
    "\n",
    "counter = 0\n",
    "for key in new_data.keys():\n",
    "    if key != 'Peshawar_Queretaro':\n",
    "        if counter == 0:\n",
    "            epi_data = new_data[key]\n",
    "            counter = 1\n",
    "        else:\n",
    "            epi_data = pd.concat([epi_data, new_data[key]])\n",
    "            \n",
    "epi_data = epi_data.drop(columns = 'Person')\n",
    "epi_data.columns = ['message', 'epi']\n",
    "epi_data = epi_data.reset_index(drop=True)\n",
    "\n",
    "self_attr = ['R01', 'R02', 'R03', 'R04', 'R05', '1', '2', '3', '4', '5']\n",
    "parents_attr = ['R06', 'R07', 'R08', 'R09', 'R10', '6', '7', '8', '9', '10']\n",
    "teacher_attr = ['R11', 'R12', 'R13', 'R14', 'R15', '11', '12', '13', '14', '15']\n",
    "re_attr = ['R16', 'R17', '16', '17']\n",
    "cause_attr = ['R18', 'R19', 'R20', 'R21', '18', '19', '20', '21']\n",
    "\n",
    "for i in range(len(epi_data)):\n",
    "    epi = epi_data['epi'][i]\n",
    "    if epi == epi:\n",
    "        epi = str(epi)\n",
    "        epi = epi.replace(\",\", \" \")\n",
    "        epi = epi.replace(\"\\n\", \" \")\n",
    "        epi = epi.split()\n",
    "        for j in range(len(epi)):\n",
    "            if epi[j] in self_attr:\n",
    "                epi[j] = '1'\n",
    "            elif epi[j] in parents_attr:\n",
    "                epi[j] = '2'\n",
    "            elif epi[j] in teacher_attr:\n",
    "                epi[j] = '3'\n",
    "            elif epi[j] in re_attr:\n",
    "                epi[j] = '4'\n",
    "            elif epi[j] in cause_attr:\n",
    "                epi[j] = '5'\n",
    "            else:\n",
    "                epi[j] = '-1'\n",
    "        cleaned_epi = list(set(epi))\n",
    "        if '-1' in cleaned_epi and len(cleaned_epi) > 1:\n",
    "            cleaned_epi.remove('-1')\n",
    "        epi_data['epi'][i] = \" \".join(cleaned_epi)\n",
    "    else:\n",
    "        epi_data['epi'][i] = '-1'\n"
   ]
  },
  {
   "cell_type": "code",
   "execution_count": 4,
   "metadata": {},
   "outputs": [],
   "source": [
    "epi_data = pd.concat([old_data, epi_data]).reset_index(drop=True)"
   ]
  },
  {
   "cell_type": "code",
   "execution_count": 5,
   "metadata": {},
   "outputs": [],
   "source": [
    "def save_epi(epi_data, model_type):\n",
    "    one_hot = get_one_hot(0, epi_data['epi'])\n",
    "    epi = get_splitted_data(model_type, one_hot)\n",
    "    X_train, X_test, y_train, y_test = train_test_split(epi_data['message'], epi, test_size = 0.15, shuffle= True)\n",
    "    X_train = X_train.reset_index(drop = True)\n",
    "    train_data = pd.DataFrame(X_train, columns = ['message'])\n",
    "    train_data['epi'] = y_train\n",
    "    train_data['epi'] = train_data['epi'].astype(int)\n",
    "    positive_examples = copy.deepcopy(train_data[train_data['epi'] == 1])\n",
    "    train_data = train_data.sample(frac=1, weights=len(train_data) - train_data.groupby('epi')['epi'].transform('count'),replace=True)\n",
    "    train_data = pd.concat([train_data, positive_examples])\n",
    "    train_data = train_data.sample(frac=1)\n",
    "    train_data.to_csv(os.path.join('data', model_type+'_train.csv'), index = False)\n",
    "    \n",
    "    test_data = pd.DataFrame(X_test, columns = ['message'])\n",
    "    test_data['epi'] = y_test\n",
    "    test_data['epi'] = test_data['epi'].astype(int)\n",
    "    test_data.to_csv(os.path.join('data', model_type+'_test.csv'), index = False)\n"
   ]
  },
  {
   "cell_type": "code",
   "execution_count": 6,
   "metadata": {},
   "outputs": [],
   "source": [
    "model_type = ['self', 'parents', 'teacher', 're', 'cause']\n",
    "for model in model_type:\n",
    "    save_epi(epi_data, model)"
   ]
  }
 ],
 "metadata": {
  "kernelspec": {
   "display_name": "Python 3.9.12 64-bit",
   "language": "python",
   "name": "python3"
  },
  "language_info": {
   "codemirror_mode": {
    "name": "ipython",
    "version": 3
   },
   "file_extension": ".py",
   "mimetype": "text/x-python",
   "name": "python",
   "nbconvert_exporter": "python",
   "pygments_lexer": "ipython3",
   "version": "3.9.12"
  },
  "orig_nbformat": 4,
  "vscode": {
   "interpreter": {
    "hash": "7ddf133b4eda059986521323f3292d266b4e97de12a5e96c4c9cf48956d966ac"
   }
  }
 },
 "nbformat": 4,
 "nbformat_minor": 2
}
